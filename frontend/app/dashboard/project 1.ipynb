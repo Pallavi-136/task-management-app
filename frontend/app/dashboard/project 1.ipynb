{
 "cells": [
  {
   "cell_type": "code",
   "execution_count": 11,
   "id": "a845521c",
   "metadata": {},
   "outputs": [
    {
     "name": "stdout",
     "output_type": "stream",
     "text": [
      "Dataset Sections: dict_keys(['Profiles Train', 'Profiles Test', 'Bios Train', 'Bios Test', 'Names Train', 'Names Test', 'Blind Labels Train', 'Blind Labels Test', 'Biased Labels Train (Gender)', 'Biased Labels Test (Gender)', 'Biased Labels Train (Ethnicity)', 'Biased Labels Test (Ethnicity)', 'Image List Train', 'Image List Test'])\n"
     ]
    }
   ],
   "source": [
    "import numpy as np\n",
    "file_path = r\"C:\\Users\\Upadhyay\\FairCVtest\\data\\faircvdb.npy\"\n",
    "data = np.load(file_path, allow_pickle=True).item()\n",
    "print(\"Dataset Sections:\", data.keys())"
   ]
  },
  {
   "cell_type": "code",
   "execution_count": 12,
   "id": "b7432490",
   "metadata": {},
   "outputs": [
    {
     "name": "stdout",
     "output_type": "stream",
     "text": [
      "Profiles Train shape: 19200\n",
      "Bios Train shape: 19200\n",
      "Names Train shape: 19200\n"
     ]
    }
   ],
   "source": [
    "\n",
    "profiles_train = data['Profiles Train']\n",
    "print(\"Profiles Train shape:\", len(profiles_train))\n",
    "\n",
    "bios_train = data['Bios Train']\n",
    "print(\"Bios Train shape:\", len(bios_train))\n",
    "\n",
    "names_train = data['Names Train']\n",
    "print(\"Names Train shape:\", len(names_train))\n"
   ]
  },
  {
   "cell_type": "code",
   "execution_count": 10,
   "id": "de3934ac",
   "metadata": {},
   "outputs": [
    {
     "name": "stdout",
     "output_type": "stream",
     "text": [
      "<class 'numpy.ndarray'>\n"
     ]
    }
   ],
   "source": [
    "\n",
    "print(type(profiles_train[0]))"
   ]
  },
  {
   "cell_type": "code",
   "execution_count": 14,
   "id": "e967d8d7",
   "metadata": {},
   "outputs": [
    {
     "name": "stdout",
     "output_type": "stream",
     "text": [
      "\n",
      "Sample Bios: [[' With a look and feel that is colourful, powerful and energetic, Pim also takes great pleasure in capturing the raw moments in life - as can be seen in his street photography.'\n",
      "  'With a look and feel that is colourful, powerful and energetic, _ also takes great pleasure in capturing the raw moments in life - as can be seen in _ street photography.']\n",
      " [\" Alexis Xenakis is the publisher of Knitter's Magazine and XRX Books. His photography is featured in more than 15 books, including all three volumes of The Knitting Experience. He lives in Sioux Falls, South Dakota.\"\n",
      "  \"Alexis Xenakis is the publisher of Knitter's Magazine and XRX Books. _ photography is featured in more than 15 books, including all three volumes of The Knitting Experience. _ lives in Sioux Falls, South Dakota.\"]\n",
      " [\" He has directed short films set in Buenos Aires, Hong Kong and Tokyo that have played at film festivals including Sundance, Mill Valley, Sydney, and the Worldwide Short film festival in Toronto. Run to the East is Lu's first feature-length film.\"\n",
      "  \"_ has directed short films set in Buenos Aires, Hong Kong and Tokyo that have played at film festivals including Sundance, Mill Valley, Sydney, and the Worldwide Short film festival in Toronto. Run to the East is _'s first feature-length film.\"]]\n",
      "\n",
      "Sample Names: ['Pim' 'Jane' 'Henry']\n"
     ]
    }
   ],
   "source": [
    "\n",
    "print(\"\\nSample Bios:\", bios_train[:3])\n",
    "print(\"\\nSample Names:\", names_train[:3])\n"
   ]
  },
  {
   "cell_type": "code",
   "execution_count": 7,
   "id": "36d88ea8",
   "metadata": {},
   "outputs": [],
   "source": [
    "df_profiles = pd.DataFrame(profiles_train)  # automatically uses dictionary keys as columns\n",
    "\n",
    "df_profiles.to_csv('profiles_train.csv', index=False)\n"
   ]
  }
 ],
 "metadata": {
  "kernelspec": {
   "display_name": "Python 3",
   "language": "python",
   "name": "python3"
  },
  "language_info": {
   "codemirror_mode": {
    "name": "ipython",
    "version": 3
   },
   "file_extension": ".py",
   "mimetype": "text/x-python",
   "name": "python",
   "nbconvert_exporter": "python",
   "pygments_lexer": "ipython3",
   "version": "3.12.6"
  }
 },
 "nbformat": 4,
 "nbformat_minor": 5
}
